{
 "cells": [
  {
   "cell_type": "markdown",
   "metadata": {
    "id": "i8YiintZl8vd"
   },
   "source": [
    "# Tutorial\n",
    "\n",
    "<a target=\"_blank\" href=\"https://colab.research.google.com/github/andrrizzi/tfep/tree/tutorial-docs/docs/intro_to_MTFEP.ipynb\">\n",
    "  <img src=\"https://colab.research.google.com/assets/colab-badge.svg\" alt=\"Open In Colab\"/>\n",
    "</a>\n",
    "\n",
    "In this notebook we will perform a multimap targeted free energy perturbation (TFEP) on a toy system using the `tfep` library and compare its performance with standard free energy perturbation.\n",
    "\n",
    "To run this you need to install the `tfep` library first together with the OpenMM optional package (see the [installation guide](https://tfep.readthedocs.io/en/latest/installation.html)). On Google Colab, the following cell will install the packages."
   ]
  },
  {
   "cell_type": "code",
   "execution_count": null,
   "metadata": {
    "colab": {
     "base_uri": "https://localhost:8080/"
    },
    "id": "DLIrGhOJl8vh",
    "outputId": "5174d235-82e3-4011-9ea7-c4dc8ec82c51"
   },
   "outputs": [],
   "source": [
    "import os\n",
    "\n",
    "if os.getenv(\"COLAB_RELEASE_TAG\"):\n",
    "    try:\n",
    "        import tfep\n",
    "    except ModuleNotFoundError:\n",
    "        !pip install git+https://github.com/andrrizzi/tfep.git\n",
    "        !pip install openmm"
   ]
  },
  {
   "cell_type": "code",
   "execution_count": null,
   "metadata": {
    "colab": {
     "base_uri": "https://localhost:8080/"
    },
    "id": "UiYCiQe3up4p",
    "outputId": "fb83f03a-a730-4b31-a872-4e25c853344d"
   },
   "outputs": [],
   "source": [
    "# -------------- #\n",
    "# Global imports #\n",
    "# -------------- #\n",
    "import functools\n",
    "import os\n",
    "\n",
    "import lightning\n",
    "from matplotlib import pyplot as plt\n",
    "import numpy as np\n",
    "import MDAnalysis\n",
    "import openmm\n",
    "import pint\n",
    "import seaborn as sns\n",
    "import torch\n",
    "\n",
    "import tfep.analysis"
   ]
  },
  {
   "cell_type": "code",
   "execution_count": 2,
   "metadata": {
    "id": "gglRfJo6rB3f"
   },
   "outputs": [],
   "source": [
    "# -------------------- #\n",
    "# Global configuration #\n",
    "# -------------------- #\n",
    "\n",
    "# TODO: what is the default context?\n",
    "sns.set_context('notebook')\n",
    "\n",
    "# Create the subfolder where to save all the generated data.\n",
    "MAIN_DIR = 'tfep-tutorial'\n",
    "os.makedirs(MAIN_DIR, exist_ok=True)\n",
    "\n",
    "# Create a registry for unit and define the thermodynamic constants.\n",
    "UNITS = pint.UnitRegistry()\n",
    "TEMPERATURE = 298.15 * UNITS.kelvin  # Temperature of the system.\n",
    "RT = (TEMPERATURE*UNITS.molar_gas_constant).to(UNITS.kJ/UNITS.mol).magnitude  # RT in units of kJ/mol"
   ]
  },
  {
   "cell_type": "markdown",
   "metadata": {
    "id": "1jEMqeNBl8vk"
   },
   "source": [
    "## MD simulation of a triatomic molecule\n",
    "\n",
    "To perform a TFEP calculation we need samples from the perturbed state. We will consider a toy triatomic molecule in vacuum modeled using two harmonic bonds and a harmonic angle (think ozone) but no nonbonded interactions. We will collect samples for this system by running molecular dynamics using OpenMM."
   ]
  },
  {
   "cell_type": "code",
   "execution_count": 4,
   "metadata": {
    "id": "_ILIdAWSl8vk"
   },
   "outputs": [],
   "source": [
    "def create_triatomic_molecule(\n",
    "    r0=1.278*openmm.unit.angstroms,  # equilibrium bond length.\n",
    "    K_r0=290.1*openmm.unit.kilocalories_per_mole/openmm.unit.angstrom**2,  # bond harmonic constant.\n",
    "    alpha0=2.038*openmm.unit.radian,  # equilibrium angle.\n",
    "    K_alpha0=900.0*openmm.unit.kilocalories_per_mole/openmm.unit.radian**2,  # angle harmonic constant.\n",
    "    mass=15.999*openmm.unit.amu,  # atoms mass.\n",
    "):\n",
    "    \"\"\"Create a triatomic molecule OpenMM System object.\n",
    "\n",
    "    Parameters\n",
    "    ----------\n",
    "    r0 : openmm.unit.Quantity\n",
    "        The equilibrium bond length betwen atoms.\n",
    "    K_r0 : openmm.unit.Quantity\n",
    "        The force constant for the harmonic bond.\n",
    "    alpha0 : openmm.unit.Quantity\n",
    "        The equilibrium angle between atoms 0-1-2.\n",
    "    K_alpha0 : openmm.unit.Quantity\n",
    "        The force constant for the harmonic angle.\n",
    "    mass : openmm.unit.Quantity\n",
    "        The mass of the three atoms.\n",
    "\n",
    "    Returns\n",
    "    -------\n",
    "    system : openmm.System\n",
    "        The OpenMM System object to simulate.\n",
    "    topology : openmm.app.Topology\n",
    "        The OpenMM Topology object.\n",
    "    starting_positions : openmm.unit.Quantity\n",
    "        The starting positions for the simulations (the equilibrium\n",
    "        configuration).\n",
    "\n",
    "    \"\"\"\n",
    "    from openmm.app import Topology, Element\n",
    "\n",
    "    # Create an empty system object.\n",
    "    system = openmm.System()\n",
    "\n",
    "    # Add three particles to the system.\n",
    "    n_atoms = 3\n",
    "    for i in range(n_atoms):\n",
    "        system.addParticle(mass)\n",
    "\n",
    "    # Add a harmonic bond between atoms 0-1 and 1-2.\n",
    "    force = openmm.HarmonicBondForce()\n",
    "    force.addBond(0, 1, r0, K_r0)\n",
    "    force.addBond(1, 2, r0, K_r0)\n",
    "    system.addForce(force)\n",
    "\n",
    "    # Add a harmonic angle between atoms 0-1-2.\n",
    "    force = openmm.HarmonicAngleForce()\n",
    "    force.addAngle(0, 1, 2, alpha0, K_alpha0)\n",
    "    system.addForce(force)\n",
    "\n",
    "    # Set the initial positions for a molecule in equilibrium.\n",
    "    starting_positions = np.zeros([n_atoms, 3]) * openmm.unit.angstroms\n",
    "    starting_positions[0, 0] = r0\n",
    "    starting_positions[2, :2] = np.array([np.cos(alpha0._value), np.sin(alpha0._value)]) * r0\n",
    "\n",
    "    # Create topology.\n",
    "    topology = Topology()\n",
    "    element = Element.getBySymbol('O')\n",
    "    chain = topology.addChain()\n",
    "    residue = topology.addResidue('O3', chain)\n",
    "    atom0 = topology.addAtom('O', element, residue)\n",
    "    atom1 = topology.addAtom('O', element, residue)\n",
    "    atom2 = topology.addAtom('O', element, residue)\n",
    "    topology.addBond(atom0, atom1)\n",
    "    topology.addBond(atom1, atom2)\n",
    "\n",
    "    return system, topology, starting_positions\n",
    "\n",
    "\n",
    "def run_md():\n",
    "    \"\"\"Run an MD simulation of the toy system.\n",
    "\n",
    "    This runs Langevin dynamics at temperature `TEMPERATURE` for 1ns using\n",
    "    a timestep of 2fs and saving energies and configurations every 100fs.\n",
    "\n",
    "    The results are saved in:\n",
    "    - MAIN_DIR/md/traj.dcd : The trajectory holding the sampled configurations.\n",
    "    - MAIN_DIR/md/energies.csv : The energies of the sampled configurations in units of kJ/mol.\n",
    "\n",
    "    The function also saves the OpenMM Topology as a pdb file in MAIN_DIR/md/triatomic.pdb\n",
    "\n",
    "    \"\"\"\n",
    "    from openmm.app import Simulation, DCDReporter, StateDataReporter, PDBFile\n",
    "\n",
    "    # Load the system from files.\n",
    "    system, topology, positions = create_triatomic_molecule()\n",
    "\n",
    "    # Create a simulation.\n",
    "    simulation = openmm.app.Simulation(\n",
    "        topology, system,\n",
    "        integrator=openmm.openmm.LangevinMiddleIntegrator(\n",
    "            TEMPERATURE.magnitude*openmm.unit.kelvin,  # from pint unit to OpenMM unit framework.\n",
    "            1/openmm.unit.picosecond,  # frictionCoeff\n",
    "            2.0*openmm.unit.femtosecond,  # stepSize\n",
    "        ),\n",
    "    )\n",
    "    simulation.context.setPositions(positions)\n",
    "\n",
    "    # Configure output trajectory file. Output every 0.1 picosecond.\n",
    "    os.makedirs(f'{MAIN_DIR}/md', exist_ok=True)\n",
    "    simulation.reporters.append(openmm.app.DCDReporter(f'{MAIN_DIR}/md/traj.dcd', reportInterval=50))\n",
    "    simulation.reporters.append(openmm.app.StateDataReporter(f'{MAIN_DIR}/md/energies.csv',\n",
    "                                                             reportInterval=50, step=True, potentialEnergy=True))\n",
    "\n",
    "    # Write also a pdb file for readibility.\n",
    "    PDBFile.writeFile(topology, positions, f'{MAIN_DIR}/md/triatomic.pdb')\n",
    "\n",
    "    # Run for 1ns.\n",
    "    simulation.step(500000)"
   ]
  },
  {
   "cell_type": "code",
   "execution_count": 5,
   "metadata": {
    "id": "gKd7cARGl8vl"
   },
   "outputs": [],
   "source": [
    "# Run the molecular dynamics simulation to sample configurations and potential energies.\n",
    "run_md()"
   ]
  },
  {
   "cell_type": "markdown",
   "metadata": {
    "id": "NTdH3Wc_l8vl"
   },
   "source": [
    "## The free energy of the triatomic system\n",
    "\n",
    "Let's analyze the system. Because the system is in vacuum and has three atoms, the potential energy is invariant to rigid translations (3 degrees of freedom) and rigid rotations (3 DOFs). So the system has only 3 DOFs:\n",
    "- The distance between atoms 0 and 1.\n",
    "- The distance between atoms 1 and 2.\n",
    "- The angle between the vectors 0-1 and 1-2\n",
    "we can plot their sampled distributions."
   ]
  },
  {
   "cell_type": "code",
   "execution_count": 7,
   "metadata": {
    "colab": {
     "base_uri": "https://localhost:8080/",
     "height": 391
    },
    "id": "tXfJRYRcl8vm",
    "outputId": "639839be-67bd-40c8-90d6-5e66b2da9394"
   },
   "outputs": [
    {
     "name": "stderr",
     "output_type": "stream",
     "text": [
      "/Users/andrea/miniforge3/envs/tfep/lib/python3.11/site-packages/MDAnalysis/coordinates/DCD.py:165: DeprecationWarning: DCDReader currently makes independent timesteps by copying self.ts while other readers update self.ts inplace. This behavior will be changed in 3.0 to be the same as other readers. Read more at https://github.com/MDAnalysis/mdanalysis/issues/3889 to learn if this change in behavior might affect you.\n",
      "  warnings.warn(\"DCDReader currently makes independent timesteps\"\n"
     ]
    },
    {
     "data": {
      "image/png": "[encoded data removed]",
      "text/plain": [
       "<Figure size 1000x400 with 3 Axes>"
      ]
     },
     "metadata": {},
     "output_type": "display_data"
    }
   ],
   "source": [
    "def analyze_configurations():\n",
    "    # Compute the three degrees of freedom.\n",
    "    dist_10 = np.empty(10000)\n",
    "    dist_12 = np.empty(10000)\n",
    "    angles = np.empty(10000)\n",
    "    with MDAnalysis.coordinates.DCD.DCDReader(f'{MAIN_DIR}/md/traj.dcd') as trajectory:\n",
    "        for idx, timestep in enumerate(trajectory):\n",
    "            positions = timestep.positions\n",
    "            r10 = positions[0] - positions[1]\n",
    "            r12 = positions[2] - positions[1]\n",
    "            dist_10[idx] = np.linalg.norm(r10)\n",
    "            dist_12[idx] = np.linalg.norm(r12)\n",
    "            angles[idx] = np.arccos(np.dot(r10/dist_10[idx], r12/dist_12[idx]))\n",
    "\n",
    "    # Plot the histograms of the three degrees of freedom.\n",
    "    fig, axes = plt.subplots(nrows=1, ncols=3, figsize=(10, 4))\n",
    "    for ax_idx, data in enumerate([dist_10, dist_12, angles]):\n",
    "        sns.histplot(data, ax=axes[ax_idx])\n",
    "    axes[0].set_xlabel('dist 0-1 [$\\AA$]')\n",
    "    axes[1].set_xlabel('dist 1-2 [$\\AA$]')\n",
    "    axes[2].set_xlabel('angle 0-1-2 [radian]')\n",
    "    fig.tight_layout()\n",
    "    plt.show()\n",
    "\n",
    "analyze_configurations()"
   ]
  },
  {
   "cell_type": "markdown",
   "metadata": {
    "id": "N9njgFNkl8vm"
   },
   "source": [
    "The three DOFs have quite narrow distributions, and if we perturb the equilibrium bond length $r_0$ we can expect the overlap between the reference and pertrubed distributions to decrease quite fast.\n",
    "\n",
    "In this simple case, it is possible to predict the free energy difference as a function of $r_0$. We can remove the rigid rototranslational contributions by placing atom 1 in the origin, atom 0 on the $x$ axis, and atom 2 on the $x-y$ plane. Then, after converting the coordinates of atom 2 from cartesian to polar, it is easy to show that the free energy difference (in reduced units) of perturbing $r_0 \\to r'_0$ is\n",
    "\n",
    "$$\n",
    "\\Delta f = - \\log \\frac{\\int e^{-K_{r_0}(x - r'_0)^2} \\mathrm{d}x \\int e^{-K_{r_0}(r - r'_0)^2} r \\mathrm{d}r \\int e^{-K_{\\alpha_0}(\\alpha - \\alpha_0)^2} cos(\\alpha) \\mathrm{d}\\alpha}{\\int e^{-K_{r_0}(x - r_0)^2} \\mathrm{d}x \\int e^{-K_{r_0}(r - r_0)^2} r \\mathrm{d}r \\int e^{-K_{\\alpha_0}(\\alpha - \\alpha_0)^2} cos(\\alpha) \\mathrm{d}\\alpha} = -\\log \\frac{r'_0}{r_0}\n",
    "$$"
   ]
  },
  {
   "cell_type": "markdown",
   "metadata": {
    "id": "exIRyhT4l8vm"
   },
   "source": [
    "## Standard free energy perturbation\n",
    "\n",
    "We can now check the performance of standard FEP as the perturbation in $r_0$."
   ]
  },
  {
   "cell_type": "code",
   "execution_count": null,
   "metadata": {
    "id": "u06QnB8Wl8vm"
   },
   "outputs": [],
   "source": [
    "def compute_fep_estimate(target_r0):\n",
    "    \"\"\"Standard free energy perturbation.\n",
    "\n",
    "    Compute the free energy difference between the reference distribution and\n",
    "    the distribution with equilibrium bond length target_r0.\n",
    "\n",
    "    Parameters\n",
    "    ----------\n",
    "    target_r0 : openmm.unit.Quantity\n",
    "        The equilibrium bond length of the target potential energy function.\n",
    "\n",
    "    \"\"\"\n",
    "    # First, we need to re-evaluate the potential energy of the configurations\n",
    "    # sampled with the reference MD simulation using target_r0.\n",
    "    openmm_context = openmm.Context(\n",
    "        create_triatomic_molecule(r0=target_r0)[0],\n",
    "        openmm.openmm.VerletIntegrator(2.0*openmm.unit.femtosecond),\n",
    "        openmm.Platform.getPlatformByName('CPU'),\n",
    "    )\n",
    "\n",
    "    # Compute the target potentials for all configurations.\n",
    "    target_potentials = []\n",
    "    with MDAnalysis.coordinates.DCD.DCDReader(f'{MAIN_DIR}/md/traj.dcd') as trajectory:\n",
    "        for timestep in trajectory:\n",
    "            # MDAnalysis reads positions in Angstrom but OpenMM accepts nanometers.\n",
    "            openmm_context.setPositions(timestep.positions / 10)\n",
    "            state = openmm_context.getState(getEnergy=True)\n",
    "\n",
    "            # OpenMM return the energies in kJ/mol.\n",
    "            target_potentials.append(state.getPotentialEnergy()._value)\n",
    "\n",
    "    # Convert from list to numpy array.\n",
    "    target_potentials = np.array(target_potentials)\n",
    "\n",
    "    # Now load the energies sampled with the reference MD.\n",
    "    steps, reference_potentials = np.loadtxt(f'{MAIN_DIR}/md/energies.csv', delimiter=',').T\n",
    "\n",
    "    # Compute the free energy difference.\n",
    "    work = torch.tensor(target_potentials - reference_potentials)\n",
    "    df = tfep.analysis.fep_estimator(work, kT=RT)\n",
    "\n",
    "    # The TFEP library has functions to perform (bayesian) bootstrap\n",
    "    # analysis to get an approximate estimate of the uncertainty.\n",
    "    fep_estimator = functools.partial(tfep.analysis.fep_estimator, kT=RT)\n",
    "    bootstrap_analysis = tfep.analysis.bootstrap(work, fep_estimator, n_resamples=2000, bayesian=True)\n",
    "\n",
    "    df_mean = bootstrap_analysis['mean']\n",
    "    ci_low = bootstrap_analysis['confidence_interval']['low']\n",
    "    ci_high = bootstrap_analysis['confidence_interval']['high']\n",
    "    print(f'Df = {df} ({df_mean}) [{ci_low}, {ci_high}] kJ/mol')"
   ]
  },
  {
   "cell_type": "code",
   "execution_count": null,
   "metadata": {
    "colab": {
     "base_uri": "https://localhost:8080/"
    },
    "id": "ALaYy8JJl8vn",
    "outputId": "0c4976a1-239e-439f-b120-0e366d1b5ee1"
   },
   "outputs": [
    {
     "name": "stderr",
     "output_type": "stream",
     "text": [
      "/usr/local/lib/python3.10/dist-packages/MDAnalysis/coordinates/DCD.py:165: DeprecationWarning: DCDReader currently makes independent timesteps by copying self.ts while other readers update self.ts inplace. This behavior will be changed in 3.0 to be the same as other readers. Read more at https://github.com/MDAnalysis/mdanalysis/issues/3889 to learn if this change in behavior might affect you.\n",
      "  warnings.warn(\"DCDReader currently makes independent timesteps\"\n"
     ]
    },
    {
     "name": "stdout",
     "output_type": "stream",
     "text": [
      "Df = -0.2860998560439967 (-0.2855375363935697) [-0.3484750311933955, -0.2271823693093556] kJ/mol\n",
      "Correct Df = -0.06130654404637665 kJ/mol\n"
     ]
    }
   ],
   "source": [
    "compute_fep_estimate(target_r0=1.31*openmm.unit.angstroms)\n",
    "print(f'Correct Df = {-RT*np.log(1.31/1.278)} kJ/mol')"
   ]
  },
  {
   "cell_type": "code",
   "execution_count": null,
   "metadata": {
    "colab": {
     "base_uri": "https://localhost:8080/"
    },
    "id": "IgKXnhV_l8vn",
    "outputId": "dab4115b-8754-40d9-b470-7eee5819c658"
   },
   "outputs": [
    {
     "name": "stdout",
     "output_type": "stream",
     "text": [
      "Df = 109.42345178743534 (110.74018250759458) [106.15834910440587, 117.06674738063921] kJ/mol\n",
      "Correct Df = -0.7073255071448409 kJ/mol\n"
     ]
    }
   ],
   "source": [
    "compute_fep_estimate(target_r0=1.7*openmm.unit.angstroms)\n",
    "print(f'Correct Df = {-RT*np.log(1.7/1.278)} kJ/mol')"
   ]
  },
  {
   "cell_type": "markdown",
   "metadata": {
    "id": "fPsvuTJul8vn"
   },
   "source": [
    "As expected, the performance of standard FEP decreases very rapidly with the size of the perturbation."
   ]
  },
  {
   "cell_type": "markdown",
   "metadata": {
    "id": "gtN1mYUFl8vo"
   },
   "source": [
    "## Targeted free energy perturbation with the `tfep` library\n",
    "\n",
    "Now we can test TFEP instead. The following two functions implement a single-epoch multimap TFEP calculation as described in [this paper](https://doi.org/10.1073/pnas.2304308120)."
   ]
  },
  {
   "cell_type": "code",
   "execution_count": null,
   "metadata": {
    "id": "4szLMpuVl8vo"
   },
   "outputs": [],
   "source": [
    "def run_tfep_training(output_dir_path, target_r0=1.278*openmm.unit.angstroms, n_epochs=1):\n",
    "    \"\"\"Trains a TFEP map and saves the potential energies evaluated with r0=target_r0.\n",
    "\n",
    "    Parameters\n",
    "    ----------\n",
    "    output_dir_path : str\n",
    "        Where to save the output files.\n",
    "    target_r0 : openmm.unit.Quantity\n",
    "        The equilibrium bond length of the target potential energy function.\n",
    "    n_epochs : int\n",
    "        The number of training epochs.\n",
    "\n",
    "    \"\"\"\n",
    "    import tfep.app\n",
    "    import tfep.potentials.openmm\n",
    "\n",
    "    # Create TFEP map.\n",
    "    tfep_map = tfep.app.CartesianMAFMap(\n",
    "        # Target potential energy function.\n",
    "        potential_energy_func=tfep.potentials.openmm.OpenMMPotential(\n",
    "            system=create_triatomic_molecule(r0=target_r0)[0],\n",
    "            platform='CPU',  # Change this to 'CUDA' to run on the GPU.\n",
    "            positions_unit=UNITS.angstrom,  # Units of the input positions.\n",
    "            energy_unit=UNITS.kJ/UNITS.mole,  # Units of the returned energies.\n",
    "            # Useful for caching the OpenMM Context and avoid re-initializing it at every batch.\n",
    "            system_name='triatomic',\n",
    "            precompute_gradient=True,  # Necessary to compute gradients for training.\n",
    "        ),\n",
    "        # Data.\n",
    "        topology_file_path=f'{MAIN_DIR}/md/triatomic.pdb',\n",
    "        coordinates_file_path=f'{MAIN_DIR}/md/traj.dcd',\n",
    "        # We don't really need to map the rototranslational degrees of freedom.\n",
    "        # origin_atom and axes_atoms force the map to place atom 1 in the origin\n",
    "        # and atoms 0, 2 on the x-y plane and maps only the unconstrained DOFs.\n",
    "        origin_atom=[1],\n",
    "        axes_atoms=[0, 2],\n",
    "        # We need to flag atom 1 as an atom whose coordinates are not changed by\n",
    "        # the map but affect the transformation of the other DOFs.\n",
    "        conditioning_atoms=[1],\n",
    "        # Other options.\n",
    "        temperature=TEMPERATURE,  # Temperature.\n",
    "        batch_size=16,  # Batch size.\n",
    "        tfep_logger_dir_path=f'{output_dir_path}/tfep_logs',  # Where to save the target potential energies.\n",
    "    )\n",
    "\n",
    "    # Optimize the map and save the computed target potential energies.\n",
    "    trainer = lightning.Trainer(\n",
    "        max_epochs=n_epochs,  # Run for n_epochs.\n",
    "        default_root_dir=output_dir_path,  # Where to save the Lightning logs.\n",
    "    )\n",
    "    trainer.fit(tfep_map)\n",
    "\n",
    "\n",
    "def compute_single_epoch_mtfep_estimate(dir_path):\n",
    "    \"\"\"This function reads the potentials saved during training and compute the Df.\n",
    "\n",
    "    It performs a bootstrap analysis of the data as a function of the number of\n",
    "    samples to evaluate the convergence.\n",
    "\n",
    "    \"\"\"\n",
    "    # Read the data from the Read the data from the TFEP logger (DFT potentials).\n",
    "    tfep_logger_dir_path = f'{dir_path}/tfep_logs'\n",
    "    tfep_logger = tfep.io.TFEPLogger(tfep_logger_dir_path)\n",
    "\n",
    "    # This reads the potential energies evaluated during the first epoch of training\n",
    "    tfep_data = tfep_logger.read_train_tensors(epoch_idx=0)\n",
    "\n",
    "    # Read the vacuum potentials (saved in kJ/mol).\n",
    "    steps, reference_potentials = np.loadtxt(f'{MAIN_DIR}/md/energies.csv', delimiter=',').T\n",
    "    reference_potentials = torch.tensor(reference_potentials)\n",
    "\n",
    "    # The samples where shuffled during training so we need to match them.\n",
    "    reference_potentials = reference_potentials[tfep_data['trajectory_sample_index']]\n",
    "\n",
    "    # Potentials and log_det_Js in the tfep logger are stored in in units of kT\n",
    "    # while OpenMM saves energies in kJ/mol.\n",
    "    target_potentials = tfep_data['potential'] * RT\n",
    "    log_det_J = tfep_data['log_det_J'] * RT\n",
    "\n",
    "    # Compute the generalized work (in units of kT).\n",
    "    work = target_potentials - log_det_J - reference_potentials\n",
    "\n",
    "    # Compute the free energy and work statistics with the whole dataset.\n",
    "    result = {'df': tfep.analysis.fep_estimator(work, kT=RT)}\n",
    "\n",
    "    # Run the bootstrap analysis as a function of the number of samples.\n",
    "    fep_estimator = functools.partial(tfep.analysis.fep_estimator, kT=RT)\n",
    "    result['bootstrap_sample_size'] = torch.arange(1000, 11000, 1000)\n",
    "    result['df_bootstrap'] = tfep.analysis.bootstrap(\n",
    "        data=work,\n",
    "        statistic=fep_estimator,\n",
    "        n_resamples=2000,\n",
    "        bootstrap_sample_size=result['bootstrap_sample_size'],\n",
    "        take_first_only=True,\n",
    "        batch=1000,\n",
    "        bayesian=True,\n",
    "    )\n",
    "\n",
    "    return result\n"
   ]
  },
  {
   "cell_type": "code",
   "execution_count": null,
   "metadata": {
    "colab": {
     "base_uri": "https://localhost:8080/",
     "height": 712,
     "referenced_widgets": [
      "2f034474d13a49b6b8065d3caaadbbf3",
      "1d97d8e663044c0c8ad072aead4afe0f",
      "6a250960606e43ff8849ca4e7694b888",
      "d1ba10853d6942eeb638882da3fc2dfe",
      "affadb1606fd4833a61dbcaff8c550c8",
      "e7494aac57b54e1abf008651d19dd24c",
      "75cd8e35ace64d398411ae1317940e92",
      "cd0faa7c5a5e42fbafa26f8496d67d3e",
      "8eff48866de6405ab2a3923d8d832caa",
      "a52f60082adb49d0a32c9c27f6593bc6",
      "a2a4c9492ab74f2c880e4d28aff68338"
     ]
    },
    "id": "M_y50_4Bl8vo",
    "outputId": "5e84393f-3892-4621-884f-37e60d5d9467"
   },
   "outputs": [
    {
     "name": "stderr",
     "output_type": "stream",
     "text": [
      "INFO: GPU available: False, used: False\n",
      "INFO:lightning.pytorch.utilities.rank_zero:GPU available: False, used: False\n",
      "INFO: TPU available: False, using: 0 TPU cores\n",
      "INFO:lightning.pytorch.utilities.rank_zero:TPU available: False, using: 0 TPU cores\n",
      "INFO: HPU available: False, using: 0 HPUs\n",
      "INFO:lightning.pytorch.utilities.rank_zero:HPU available: False, using: 0 HPUs\n",
      "WARNING: Missing logger folder: tfep-tutorial/mtfep/lightning_logs\n",
      "WARNING:lightning.pytorch.loggers.tensorboard:Missing logger folder: tfep-tutorial/mtfep/lightning_logs\n",
      "/usr/local/lib/python3.10/dist-packages/tfep/nn/flows/oriented.py:139: UserWarning: Using torch.cross without specifying the dim arg is deprecated.\n",
      "Please either pass the dim explicitly or simply use torch.linalg.cross.\n",
      "The default value of dim will change to agree with that of linalg.cross in a future release. (Triggered internally at ../aten/src/ATen/native/Cross.cpp:62.)\n",
      "  plane_normal_vector = torch.cross(axis_vector, plane_axis_vector)\n",
      "INFO: \n",
      "  | Name                   | Type                 | Params | Mode \n",
      "------------------------------------------------------------------------\n",
      "0 | _potential_energy_func | OpenMMPotential      | 0      | train\n",
      "1 | _loss_func             | BoltzmannKLDivLoss   | 0      | train\n",
      "2 | _flow                  | CenteredCentroidFlow | 252    | train\n",
      "------------------------------------------------------------------------\n",
      "252       Trainable params\n",
      "0         Non-trainable params\n",
      "252       Total params\n",
      "0.001     Total estimated model params size (MB)\n",
      "INFO:lightning.pytorch.callbacks.model_summary:\n",
      "  | Name                   | Type                 | Params | Mode \n",
      "------------------------------------------------------------------------\n",
      "0 | _potential_energy_func | OpenMMPotential      | 0      | train\n",
      "1 | _loss_func             | BoltzmannKLDivLoss   | 0      | train\n",
      "2 | _flow                  | CenteredCentroidFlow | 252    | train\n",
      "------------------------------------------------------------------------\n",
      "252       Trainable params\n",
      "0         Non-trainable params\n",
      "252       Total params\n",
      "0.001     Total estimated model params size (MB)\n"
     ]
    },
    {
     "data": {
      "application/vnd.jupyter.widget-view+json": {
       "model_id": "2f034474d13a49b6b8065d3caaadbbf3",
       "version_major": 2,
       "version_minor": 0
      },
      "text/plain": [
       "Training: |          | 0/? [00:00<?, ?it/s]"
      ]
     },
     "metadata": {},
     "output_type": "display_data"
    },
    {
     "name": "stderr",
     "output_type": "stream",
     "text": [
      "INFO: `Trainer.fit` stopped: `max_epochs=1` reached.\n",
      "INFO:lightning.pytorch.utilities.rank_zero:`Trainer.fit` stopped: `max_epochs=1` reached.\n"
     ]
    }
   ],
   "source": [
    "run_tfep_training(output_dir_path=f'{MAIN_DIR}/mtfep', target_r0=1.7*openmm.unit.angstroms, n_epochs=1)"
   ]
  },
  {
   "cell_type": "code",
   "execution_count": null,
   "metadata": {
    "id": "iX970NsXl8vo"
   },
   "outputs": [],
   "source": [
    "# Now run the bootstrap analysis.\n",
    "mtfep_analysis = compute_single_epoch_mtfep_estimate(dir_path=f'{MAIN_DIR}/mtfep')"
   ]
  },
  {
   "cell_type": "markdown",
   "metadata": {
    "id": "dEGkl-kbl8vp"
   },
   "source": [
    "Now let's plot the free energy trajectory as the calculation progresses."
   ]
  },
  {
   "cell_type": "code",
   "execution_count": null,
   "metadata": {
    "colab": {
     "base_uri": "https://localhost:8080/",
     "height": 476
    },
    "id": "VqhrQBu5l8vp",
    "outputId": "69e66fd0-9023-40e1-c849-7d36a5ee3a4f"
   },
   "outputs": [
    {
     "name": "stdout",
     "output_type": "stream",
     "text": [
      "Df = -0.5592270632276191 (-0.5596894009473848) [-0.5919301921111444, -0.5277030854991921] kJ/mol\n"
     ]
    },
    {
     "data": {
      "image/png": "[encoded data removed]",
      "text/plain": [
       "<Figure size 640x480 with 1 Axes>"
      ]
     },
     "metadata": {},
     "output_type": "display_data"
    }
   ],
   "source": [
    "def plot_free_energy_trajectory(analysis, ref_r0, target_r0):\n",
    "    # Plot the the free energy trajectory.\n",
    "    fig, ax = plt.subplots()\n",
    "    bootstrap_sample_size = analysis['bootstrap_sample_size']\n",
    "\n",
    "    # Plot true free energy.\n",
    "    ref_df = - RT* np.log(target_r0 / ref_r0)\n",
    "    ax.hlines(ref_df, bootstrap_sample_size[0], bootstrap_sample_size[-1], label='true', color='black', linestyle=':')\n",
    "\n",
    "    # Plot mean bootstrap statistics.\n",
    "    mean_bootstrap_df = [x['mean'].tolist() for x in analysis['df_bootstrap']]\n",
    "    ax.plot(bootstrap_sample_size, mean_bootstrap_df, label='bootstrap mean', marker='.')\n",
    "\n",
    "    # Plot bootstrap confidence interval.\n",
    "    low_ci = [x['confidence_interval']['low'].tolist() for x in analysis['df_bootstrap']]\n",
    "    high_ci = [x['confidence_interval']['high'].tolist() for x in analysis['df_bootstrap']]\n",
    "    ax.fill_between(bootstrap_sample_size, low_ci, high_ci, alpha=0.25)\n",
    "\n",
    "    ax.set_ylabel('$\\Delta f$ [kJ/mol]')\n",
    "    ax.set_xlabel('# samples')\n",
    "    ax.legend()\n",
    "\n",
    "    print(f'Df = {analysis[\"df\"]} ({mean_bootstrap_df[-1]}) [{low_ci[-1]}, {high_ci[-1]}] kJ/mol')\n",
    "\n",
    "plot_free_energy_trajectory(mtfep_analysis, ref_r0=1.278, target_r0=1.71)"
   ]
  }
 ],
 "metadata": {
  "colab": {
   "provenance": []
  },
  "kernelspec": {
   "display_name": "Python 3 (ipykernel)",
   "language": "python",
   "name": "python3"
  },
  "language_info": {
   "codemirror_mode": {
    "name": "ipython",
    "version": 3
   },
   "file_extension": ".py",
   "mimetype": "text/x-python",
   "name": "python",
   "nbconvert_exporter": "python",
   "pygments_lexer": "ipython3",
   "version": "3.11.9"
  },
  "widgets": {
   "application/vnd.jupyter.widget-state+json": {
    "1d97d8e663044c0c8ad072aead4afe0f": {
     "model_module": "@jupyter-widgets/controls",
     "model_module_version": "1.5.0",
     "model_name": "HTMLModel",
     "state": {
      "_dom_classes": [],
      "_model_module": "@jupyter-widgets/controls",
      "_model_module_version": "1.5.0",
      "_model_name": "HTMLModel",
      "_view_count": null,
      "_view_module": "@jupyter-widgets/controls",
      "_view_module_version": "1.5.0",
      "_view_name": "HTMLView",
      "description": "",
      "description_tooltip": null,
      "layout": "IPY_MODEL_e7494aac57b54e1abf008651d19dd24c",
      "placeholder": "​",
      "style": "IPY_MODEL_75cd8e35ace64d398411ae1317940e92",
      "value": "Epoch 0: 100%"
     }
    },
    "2f034474d13a49b6b8065d3caaadbbf3": {
     "model_module": "@jupyter-widgets/controls",
     "model_module_version": "1.5.0",
     "model_name": "HBoxModel",
     "state": {
      "_dom_classes": [],
      "_model_module": "@jupyter-widgets/controls",
      "_model_module_version": "1.5.0",
      "_model_name": "HBoxModel",
      "_view_count": null,
      "_view_module": "@jupyter-widgets/controls",
      "_view_module_version": "1.5.0",
      "_view_name": "HBoxView",
      "box_style": "",
      "children": [
       "IPY_MODEL_1d97d8e663044c0c8ad072aead4afe0f",
       "IPY_MODEL_6a250960606e43ff8849ca4e7694b888",
       "IPY_MODEL_d1ba10853d6942eeb638882da3fc2dfe"
      ],
      "layout": "IPY_MODEL_affadb1606fd4833a61dbcaff8c550c8"
     }
    },
    "6a250960606e43ff8849ca4e7694b888": {
     "model_module": "@jupyter-widgets/controls",
     "model_module_version": "1.5.0",
     "model_name": "FloatProgressModel",
     "state": {
      "_dom_classes": [],
      "_model_module": "@jupyter-widgets/controls",
      "_model_module_version": "1.5.0",
      "_model_name": "FloatProgressModel",
      "_view_count": null,
      "_view_module": "@jupyter-widgets/controls",
      "_view_module_version": "1.5.0",
      "_view_name": "ProgressView",
      "bar_style": "success",
      "description": "",
      "description_tooltip": null,
      "layout": "IPY_MODEL_cd0faa7c5a5e42fbafa26f8496d67d3e",
      "max": 625,
      "min": 0,
      "orientation": "horizontal",
      "style": "IPY_MODEL_8eff48866de6405ab2a3923d8d832caa",
      "value": 625
     }
    },
    "75cd8e35ace64d398411ae1317940e92": {
     "model_module": "@jupyter-widgets/controls",
     "model_module_version": "1.5.0",
     "model_name": "DescriptionStyleModel",
     "state": {
      "_model_module": "@jupyter-widgets/controls",
      "_model_module_version": "1.5.0",
      "_model_name": "DescriptionStyleModel",
      "_view_count": null,
      "_view_module": "@jupyter-widgets/base",
      "_view_module_version": "1.2.0",
      "_view_name": "StyleView",
      "description_width": ""
     }
    },
    "8eff48866de6405ab2a3923d8d832caa": {
     "model_module": "@jupyter-widgets/controls",
     "model_module_version": "1.5.0",
     "model_name": "ProgressStyleModel",
     "state": {
      "_model_module": "@jupyter-widgets/controls",
      "_model_module_version": "1.5.0",
      "_model_name": "ProgressStyleModel",
      "_view_count": null,
      "_view_module": "@jupyter-widgets/base",
      "_view_module_version": "1.2.0",
      "_view_name": "StyleView",
      "bar_color": null,
      "description_width": ""
     }
    },
    "a2a4c9492ab74f2c880e4d28aff68338": {
     "model_module": "@jupyter-widgets/controls",
     "model_module_version": "1.5.0",
     "model_name": "DescriptionStyleModel",
     "state": {
      "_model_module": "@jupyter-widgets/controls",
      "_model_module_version": "1.5.0",
      "_model_name": "DescriptionStyleModel",
      "_view_count": null,
      "_view_module": "@jupyter-widgets/base",
      "_view_module_version": "1.2.0",
      "_view_name": "StyleView",
      "description_width": ""
     }
    },
    "a52f60082adb49d0a32c9c27f6593bc6": {
     "model_module": "@jupyter-widgets/base",
     "model_module_version": "1.2.0",
     "model_name": "LayoutModel",
     "state": {
      "_model_module": "@jupyter-widgets/base",
      "_model_module_version": "1.2.0",
      "_model_name": "LayoutModel",
      "_view_count": null,
      "_view_module": "@jupyter-widgets/base",
      "_view_module_version": "1.2.0",
      "_view_name": "LayoutView",
      "align_content": null,
      "align_items": null,
      "align_self": null,
      "border": null,
      "bottom": null,
      "display": null,
      "flex": null,
      "flex_flow": null,
      "grid_area": null,
      "grid_auto_columns": null,
      "grid_auto_flow": null,
      "grid_auto_rows": null,
      "grid_column": null,
      "grid_gap": null,
      "grid_row": null,
      "grid_template_areas": null,
      "grid_template_columns": null,
      "grid_template_rows": null,
      "height": null,
      "justify_content": null,
      "justify_items": null,
      "left": null,
      "margin": null,
      "max_height": null,
      "max_width": null,
      "min_height": null,
      "min_width": null,
      "object_fit": null,
      "object_position": null,
      "order": null,
      "overflow": null,
      "overflow_x": null,
      "overflow_y": null,
      "padding": null,
      "right": null,
      "top": null,
      "visibility": null,
      "width": null
     }
    },
    "affadb1606fd4833a61dbcaff8c550c8": {
     "model_module": "@jupyter-widgets/base",
     "model_module_version": "1.2.0",
     "model_name": "LayoutModel",
     "state": {
      "_model_module": "@jupyter-widgets/base",
      "_model_module_version": "1.2.0",
      "_model_name": "LayoutModel",
      "_view_count": null,
      "_view_module": "@jupyter-widgets/base",
      "_view_module_version": "1.2.0",
      "_view_name": "LayoutView",
      "align_content": null,
      "align_items": null,
      "align_self": null,
      "border": null,
      "bottom": null,
      "display": "inline-flex",
      "flex": null,
      "flex_flow": "row wrap",
      "grid_area": null,
      "grid_auto_columns": null,
      "grid_auto_flow": null,
      "grid_auto_rows": null,
      "grid_column": null,
      "grid_gap": null,
      "grid_row": null,
      "grid_template_areas": null,
      "grid_template_columns": null,
      "grid_template_rows": null,
      "height": null,
      "justify_content": null,
      "justify_items": null,
      "left": null,
      "margin": null,
      "max_height": null,
      "max_width": null,
      "min_height": null,
      "min_width": null,
      "object_fit": null,
      "object_position": null,
      "order": null,
      "overflow": null,
      "overflow_x": null,
      "overflow_y": null,
      "padding": null,
      "right": null,
      "top": null,
      "visibility": null,
      "width": "100%"
     }
    },
    "cd0faa7c5a5e42fbafa26f8496d67d3e": {
     "model_module": "@jupyter-widgets/base",
     "model_module_version": "1.2.0",
     "model_name": "LayoutModel",
     "state": {
      "_model_module": "@jupyter-widgets/base",
      "_model_module_version": "1.2.0",
      "_model_name": "LayoutModel",
      "_view_count": null,
      "_view_module": "@jupyter-widgets/base",
      "_view_module_version": "1.2.0",
      "_view_name": "LayoutView",
      "align_content": null,
      "align_items": null,
      "align_self": null,
      "border": null,
      "bottom": null,
      "display": null,
      "flex": "2",
      "flex_flow": null,
      "grid_area": null,
      "grid_auto_columns": null,
      "grid_auto_flow": null,
      "grid_auto_rows": null,
      "grid_column": null,
      "grid_gap": null,
      "grid_row": null,
      "grid_template_areas": null,
      "grid_template_columns": null,
      "grid_template_rows": null,
      "height": null,
      "justify_content": null,
      "justify_items": null,
      "left": null,
      "margin": null,
      "max_height": null,
      "max_width": null,
      "min_height": null,
      "min_width": null,
      "object_fit": null,
      "object_position": null,
      "order": null,
      "overflow": null,
      "overflow_x": null,
      "overflow_y": null,
      "padding": null,
      "right": null,
      "top": null,
      "visibility": null,
      "width": null
     }
    },
    "d1ba10853d6942eeb638882da3fc2dfe": {
     "model_module": "@jupyter-widgets/controls",
     "model_module_version": "1.5.0",
     "model_name": "HTMLModel",
     "state": {
      "_dom_classes": [],
      "_model_module": "@jupyter-widgets/controls",
      "_model_module_version": "1.5.0",
      "_model_name": "HTMLModel",
      "_view_count": null,
      "_view_module": "@jupyter-widgets/controls",
      "_view_module_version": "1.5.0",
      "_view_name": "HTMLView",
      "description": "",
      "description_tooltip": null,
      "layout": "IPY_MODEL_a52f60082adb49d0a32c9c27f6593bc6",
      "placeholder": "​",
      "style": "IPY_MODEL_a2a4c9492ab74f2c880e4d28aff68338",
      "value": " 625/625 [00:32&lt;00:00, 18.98it/s, v_num=0]"
     }
    },
    "e7494aac57b54e1abf008651d19dd24c": {
     "model_module": "@jupyter-widgets/base",
     "model_module_version": "1.2.0",
     "model_name": "LayoutModel",
     "state": {
      "_model_module": "@jupyter-widgets/base",
      "_model_module_version": "1.2.0",
      "_model_name": "LayoutModel",
      "_view_count": null,
      "_view_module": "@jupyter-widgets/base",
      "_view_module_version": "1.2.0",
      "_view_name": "LayoutView",
      "align_content": null,
      "align_items": null,
      "align_self": null,
      "border": null,
      "bottom": null,
      "display": null,
      "flex": null,
      "flex_flow": null,
      "grid_area": null,
      "grid_auto_columns": null,
      "grid_auto_flow": null,
      "grid_auto_rows": null,
      "grid_column": null,
      "grid_gap": null,
      "grid_row": null,
      "grid_template_areas": null,
      "grid_template_columns": null,
      "grid_template_rows": null,
      "height": null,
      "justify_content": null,
      "justify_items": null,
      "left": null,
      "margin": null,
      "max_height": null,
      "max_width": null,
      "min_height": null,
      "min_width": null,
      "object_fit": null,
      "object_position": null,
      "order": null,
      "overflow": null,
      "overflow_x": null,
      "overflow_y": null,
      "padding": null,
      "right": null,
      "top": null,
      "visibility": null,
      "width": null
     }
    }
   }
  }
 },
 "nbformat": 4,
 "nbformat_minor": 4
}
